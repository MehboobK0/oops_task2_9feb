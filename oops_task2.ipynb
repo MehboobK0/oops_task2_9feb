{
 "cells": [
  {
   "cell_type": "code",
   "execution_count": 28,
   "id": "a6eb9a92",
   "metadata": {},
   "outputs": [
    {
     "name": "stdout",
     "output_type": "stream",
     "text": [
      "Method from Parent1\n",
      "Method from Parent2\n",
      "Parent's method\n",
      "Child's method\n"
     ]
    }
   ],
   "source": [
    "# Q1:\n",
    "class Vehicle:\n",
    "    def __init__(self, name_of_vehicle, max_speed, average_of_vehicle):\n",
    "        self.name_of_vehicle = name_of_vehicle\n",
    "        self.max_speed = max_speed\n",
    "        self.average_of_vehicle = average_of_vehicle\n",
    "\n",
    "# Q2:\n",
    "class Car(Vehicle):\n",
    "    def seating_capacity(self, capacity):\n",
    "        return f\"{self.name_of_vehicle} has a seating capacity of {capacity}.\"\n",
    "\n",
    "# Q3:\n",
    "# Multiple inheritance occurs when a class inherits attributes and methods from more than one parent class.\n",
    "# Example:\n",
    "class Parent1:\n",
    "    def method1(self):\n",
    "        print(\"Method from Parent1\")\n",
    "\n",
    "class Parent2:\n",
    "    def method2(self):\n",
    "        print(\"Method from Parent2\")\n",
    "\n",
    "class Child(Parent1, Parent2):\n",
    "    pass\n",
    "\n",
    "obj = Child()\n",
    "obj.method1()  # Output: Method from Parent1\n",
    "obj.method2()  # Output: Method from Parent2\n",
    "\n",
    "# Q4:\n",
    "# Getter and setter methods are used to get and set the values of private attributes in a class respectively.\n",
    "# Example:\n",
    "class MyClass:\n",
    "    def __init__(self):\n",
    "        self._x = None\n",
    "\n",
    "    def get_x(self):\n",
    "        return self._x\n",
    "\n",
    "    def set_x(self, value):\n",
    "        self._x = value\n",
    "\n",
    "# Q5:\n",
    "# Method overriding occurs when a subclass provides a specific implementation of a method that is already provided by its parent class.\n",
    "# Example:\n",
    "class Parent:\n",
    "    def show(self):\n",
    "        print(\"Parent's method\")\n",
    "\n",
    "class Child(Parent):\n",
    "    def show(self):\n",
    "        print(\"Child's method\")\n",
    "\n",
    "# Test method overriding\n",
    "obj1 = Parent()\n",
    "obj1.show()  # Output: Parent's method\n",
    "\n",
    "obj2 = Child()\n",
    "obj2.show()  # Output: Child's method\n"
   ]
  },
  {
   "cell_type": "code",
   "execution_count": null,
   "id": "e86ab8c2",
   "metadata": {},
   "outputs": [],
   "source": []
  }
 ],
 "metadata": {
  "kernelspec": {
   "display_name": "Python 3 (ipykernel)",
   "language": "python",
   "name": "python3"
  },
  "language_info": {
   "codemirror_mode": {
    "name": "ipython",
    "version": 3
   },
   "file_extension": ".py",
   "mimetype": "text/x-python",
   "name": "python",
   "nbconvert_exporter": "python",
   "pygments_lexer": "ipython3",
   "version": "3.9.12"
  }
 },
 "nbformat": 4,
 "nbformat_minor": 5
}
